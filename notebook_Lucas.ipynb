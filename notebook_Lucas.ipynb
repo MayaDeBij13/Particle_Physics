{
 "cells": [
  {
   "attachments": {},
   "cell_type": "markdown",
   "id": "c500d6fa",
   "metadata": {},
   "source": [
    "# Dataverwerking"
   ]
  },
  {
   "attachments": {},
   "cell_type": "markdown",
   "id": "d40a7a6b",
   "metadata": {},
   "source": [
    "## Importeren modules"
   ]
  },
  {
   "cell_type": "code",
   "execution_count": 1,
   "id": "bd7cde8e",
   "metadata": {},
   "outputs": [],
   "source": [
    "# For interactive plots\n",
    "%matplotlib widget"
   ]
  },
  {
   "cell_type": "code",
   "execution_count": 2,
   "id": "0afd4732",
   "metadata": {},
   "outputs": [],
   "source": [
    "# Import modules\n",
    "import pandas as pd\n",
    "import numpy as np\n",
    "import matplotlib.pyplot as plt\n",
    "from lmfit import models\n",
    "from scipy.stats import chi2\n",
    "import csv"
   ]
  },
  {
   "attachments": {},
   "cell_type": "markdown",
   "id": "9f52488c",
   "metadata": {},
   "source": [
    "## Data (uit labjournaal) invoeren"
   ]
  },
  {
   "cell_type": "code",
   "execution_count": 3,
   "id": "5dd9af7b",
   "metadata": {},
   "outputs": [
    {
     "name": "stdout",
     "output_type": "stream",
     "text": [
      "189.26470588235296 468.38235294117646\n",
      "De eerste piek heeft 2142.0 counts en een pulseheight van 189.26470588235296 mV\n",
      "De tweede piek heeft 321.0 counts en een pulseheight van 468.38235294117646 mV\n"
     ]
    }
   ],
   "source": [
    "#import peaks from spectrum\n",
    "list_count_A = []\n",
    "L_pulseheight = []\n",
    "# Open the CSV file\n",
    "with open('cal_Ge_Na_2.csv', mode='r') as spectrum:\n",
    "    csv_reader = csv.reader(spectrum)\n",
    "\n",
    "    # Skip the first line (header)\n",
    "    next(csv_reader)  # This skips the first row\n",
    "\n",
    "    # Iterate through the rows\n",
    "    for row in csv_reader:\n",
    "        pulseheigt, counts_ch_A, counts_ch_B = row\n",
    "\n",
    "        list_count_A.append(float(counts_ch_A))\n",
    "        L_pulseheight.append(float(pulseheigt))\n",
    "        # print(count_A)\n",
    "    \n",
    "max_A_1 = max(list_count_A)\n",
    "index_max_A1 = list_count_A.index(max_A_1)\n",
    "\n",
    "max_A_2 = max(list_count_A[100:])\n",
    "index_max_A2 = list_count_A.index(max_A_2, index_max_A1 +2)\n",
    "\n",
    "pulseheight_A1 = float(L_pulseheight[index_max_A1])\n",
    "pulseheight_A2 = float(L_pulseheight[index_max_A2])\n",
    "\n",
    "print(pulseheight_A1, pulseheight_A2)\n",
    "\n",
    "print(f\"De eerste piek heeft {max_A_1} counts en een pulseheight van {pulseheight_A1} mV\")\n",
    "print(f\"De tweede piek heeft {max_A_2} counts en een pulseheight van {pulseheight_A2} mV\")"
   ]
  },
  {
   "cell_type": "code",
   "execution_count": 4,
   "id": "5041c05b",
   "metadata": {},
   "outputs": [],
   "source": [
    "# energy in keV\n",
    "energy = [511, 1275]\n",
    "\n",
    "# pulse heights in mV\n",
    "pulse_height = [pulseheight_A1, pulseheight_A2]"
   ]
  },
  {
   "attachments": {},
   "cell_type": "markdown",
   "id": "c0c5680f",
   "metadata": {},
   "source": [
    "### Pandas DataFrame"
   ]
  },
  {
   "cell_type": "code",
   "execution_count": 5,
   "id": "84b06535",
   "metadata": {},
   "outputs": [
    {
     "data": {
      "text/html": [
       "<div>\n",
       "<style scoped>\n",
       "    .dataframe tbody tr th:only-of-type {\n",
       "        vertical-align: middle;\n",
       "    }\n",
       "\n",
       "    .dataframe tbody tr th {\n",
       "        vertical-align: top;\n",
       "    }\n",
       "\n",
       "    .dataframe thead th {\n",
       "        text-align: right;\n",
       "    }\n",
       "</style>\n",
       "<table border=\"1\" class=\"dataframe\">\n",
       "  <thead>\n",
       "    <tr style=\"text-align: right;\">\n",
       "      <th></th>\n",
       "      <th>energy</th>\n",
       "      <th>Pulse height</th>\n",
       "    </tr>\n",
       "  </thead>\n",
       "  <tbody>\n",
       "    <tr>\n",
       "      <th>0</th>\n",
       "      <td>511</td>\n",
       "      <td>189.264706</td>\n",
       "    </tr>\n",
       "    <tr>\n",
       "      <th>1</th>\n",
       "      <td>1275</td>\n",
       "      <td>468.382353</td>\n",
       "    </tr>\n",
       "  </tbody>\n",
       "</table>\n",
       "</div>"
      ],
      "text/plain": [
       "   energy  Pulse height\n",
       "0     511    189.264706\n",
       "1    1275    468.382353"
      ]
     },
     "execution_count": 5,
     "metadata": {},
     "output_type": "execute_result"
    }
   ],
   "source": [
    "# Create the Pandas DataFrame with column names are provided explicitly\n",
    "df = pd.DataFrame({'energy': energy, \n",
    "                   'Pulse height': pulse_height})\n",
    " \n",
    "# Print DataFrame\n",
    "df"
   ]
  },
  {
   "attachments": {},
   "cell_type": "markdown",
   "id": "774601a4",
   "metadata": {},
   "source": [
    "### Onzekerheid toevoegen"
   ]
  },
  {
   "cell_type": "code",
   "execution_count": 6,
   "id": "f26b7891",
   "metadata": {},
   "outputs": [
    {
     "data": {
      "text/html": [
       "<div>\n",
       "<style scoped>\n",
       "    .dataframe tbody tr th:only-of-type {\n",
       "        vertical-align: middle;\n",
       "    }\n",
       "\n",
       "    .dataframe tbody tr th {\n",
       "        vertical-align: top;\n",
       "    }\n",
       "\n",
       "    .dataframe thead th {\n",
       "        text-align: right;\n",
       "    }\n",
       "</style>\n",
       "<table border=\"1\" class=\"dataframe\">\n",
       "  <thead>\n",
       "    <tr style=\"text-align: right;\">\n",
       "      <th></th>\n",
       "      <th>energy</th>\n",
       "      <th>Pulse height</th>\n",
       "      <th>err_pulse</th>\n",
       "      <th>err_energy</th>\n",
       "    </tr>\n",
       "  </thead>\n",
       "  <tbody>\n",
       "    <tr>\n",
       "      <th>0</th>\n",
       "      <td>511</td>\n",
       "      <td>189.264706</td>\n",
       "      <td>1.911765</td>\n",
       "      <td>5.232877</td>\n",
       "    </tr>\n",
       "    <tr>\n",
       "      <th>1</th>\n",
       "      <td>1275</td>\n",
       "      <td>468.382353</td>\n",
       "      <td>1.911765</td>\n",
       "      <td>5.232877</td>\n",
       "    </tr>\n",
       "  </tbody>\n",
       "</table>\n",
       "</div>"
      ],
      "text/plain": [
       "   energy  Pulse height  err_pulse  err_energy\n",
       "0     511    189.264706   1.911765    5.232877\n",
       "1    1275    468.382353   1.911765    5.232877"
      ]
     },
     "execution_count": 6,
     "metadata": {},
     "output_type": "execute_result"
    }
   ],
   "source": [
    "# Error of pulse \n",
    "df['err_pulse'] = abs(L_pulseheight[2]-L_pulseheight[3])/2\n",
    "\n",
    "# Error of energy\n",
    "a = 0.36533723\n",
    "df['err_energy'] = (abs(L_pulseheight[2]-L_pulseheight[3])/2)/a\n",
    "\n",
    "# Print DataFrame\n",
    "df"
   ]
  },
  {
   "attachments": {},
   "cell_type": "markdown",
   "id": "87be06ea",
   "metadata": {},
   "source": [
    "### Diagram"
   ]
  },
  {
   "cell_type": "code",
   "execution_count": 7,
   "id": "3a72b023",
   "metadata": {},
   "outputs": [
    {
     "data": {
      "text/plain": [
       "(0.0, 500.0)"
      ]
     },
     "execution_count": 7,
     "metadata": {},
     "output_type": "execute_result"
    },
    {
     "data": {
      "application/vnd.jupyter.widget-view+json": {
       "model_id": "bdb7ed77ac8045e18e008edeb1c08c0e",
       "version_major": 2,
       "version_minor": 0
      },
      "image/png": "[encoded data removed]",
      "text/html": [
       "\n",
       "            <div style=\"display: inline-block;\">\n",
       "                <div class=\"jupyter-widgets widget-label\" style=\"text-align: center;\">\n",
       "                    Figure\n",
       "                </div>\n",
       "                <img src='data:image/png;base64,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' width=640.0/>\n",
       "            </div>\n",
       "        "
      ],
      "text/plain": [
       "Canvas(toolbar=Toolbar(toolitems=[('Home', 'Reset original view', 'home', 'home'), ('Back', 'Back to previous …"
      ]
     },
     "metadata": {},
     "output_type": "display_data"
    }
   ],
   "source": [
    "# Create diagram \n",
    "ax = df.plot.scatter('energy', 'Pulse height', xerr='err_energy', yerr='err_pulse')\n",
    "\n",
    "# Set axis labels\n",
    "ax.set_xlabel('energy(keV)')\n",
    "ax.set_ylabel('pulse(mV)')\n",
    "\n",
    "# Set axis view limits\n",
    "ax.set_xlim(0, 1300)\n",
    "ax.set_ylim(0, 500)"
   ]
  },
  {
   "attachments": {},
   "cell_type": "markdown",
   "id": "13dd89e8",
   "metadata": {},
   "source": [
    "## Fitten"
   ]
  },
  {
   "attachments": {},
   "cell_type": "markdown",
   "id": "c0006179",
   "metadata": {},
   "source": [
    "\\begin{equation}\n",
    "pulseheight = a*energy + b\n",
    "\\end{equation}"
   ]
  },
  {
   "attachments": {},
   "cell_type": "markdown",
   "id": "73c4abc1",
   "metadata": {},
   "source": [
    "### Fitfunctie in python"
   ]
  },
  {
   "cell_type": "code",
   "execution_count": 8,
   "id": "1879b29e",
   "metadata": {},
   "outputs": [],
   "source": [
    "# Define fit function\n",
    "def fit_function (energy, a, b):\n",
    "    pulse_height = a*energy + b\n",
    "    return pulse_height\n",
    "\n",
    "# Create a model from the fit function\n",
    "MI_model = models.Model(fit_function, name=\"fit_Na22\")"
   ]
  },
  {
   "attachments": {},
   "cell_type": "markdown",
   "id": "1dab9ac7",
   "metadata": {},
   "source": [
    "### Fitten aan de data"
   ]
  },
  {
   "cell_type": "code",
   "execution_count": 9,
   "id": "94779fa2",
   "metadata": {},
   "outputs": [],
   "source": [
    "# Use the model to fit the data\n",
    "fit_result = MI_model.fit(df['Pulse height'], energy=df['energy'], weights=1/df['err_pulse'], a=0.36533723, b=2.57737912)"
   ]
  },
  {
   "attachments": {},
   "cell_type": "markdown",
   "id": "800a1c19",
   "metadata": {},
   "source": [
    "### Plot fitresultaat"
   ]
  },
  {
   "cell_type": "code",
   "execution_count": 10,
   "id": "fad064bc",
   "metadata": {},
   "outputs": [
    {
     "data": {
      "application/vnd.jupyter.widget-view+json": {
       "model_id": "8e92141e22854d8b83a8e0807bd91b7f",
       "version_major": 2,
       "version_minor": 0
      },
      "image/png": "[encoded data removed]",
      "text/html": [
       "\n",
       "            <div style=\"display: inline-block;\">\n",
       "                <div class=\"jupyter-widgets widget-label\" style=\"text-align: center;\">\n",
       "                    Figure\n",
       "                </div>\n",
       "                <img src='data:image/png;base64,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' width=640.0/>\n",
       "            </div>\n",
       "        "
      ],
      "text/plain": [
       "Canvas(toolbar=Toolbar(toolitems=[('Home', 'Reset original view', 'home', 'home'), ('Back', 'Back to previous …"
      ]
     },
     "metadata": {},
     "output_type": "display_data"
    }
   ],
   "source": [
    "# plot fit including residuals\n",
    "fit_result.plot()\n",
    "\n",
    "# Set axis labels\n",
    "plt.xlabel(\"energy(keV)\")\n",
    "plt.ylabel(\"pulse(mV)\")\n",
    "\n",
    "# Set axis view limits\n",
    "plt.xlim(0, 1300)\n",
    "plt.ylim(0, 500)\n",
    "\n",
    "# Remove title\n",
    "plt.title(\"fit_Na22\");"
   ]
  },
  {
   "attachments": {},
   "cell_type": "markdown",
   "id": "212b8a5d",
   "metadata": {},
   "source": [
    "### Fitresultaat en statistiek"
   ]
  },
  {
   "cell_type": "code",
   "execution_count": 11,
   "id": "69d379e3",
   "metadata": {},
   "outputs": [
    {
     "data": {
      "text/html": [
       "<h2>Fit Result</h2> <p>Model: Model(fit_Na22)</p> <table class=\"jp-toc-ignore\"><caption class=\"jp-toc-ignore\">Fit Statistics</caption><tr><td style='text-align:left'>fitting method</td><td style='text-align:right'>leastsq</td></tr><tr><td style='text-align:left'># function evals</td><td style='text-align:right'>7</td></tr><tr><td style='text-align:left'># data points</td><td style='text-align:right'>2</td></tr><tr><td style='text-align:left'># variables</td><td style='text-align:right'>2</td></tr><tr><td style='text-align:left'>chi-square</td><td style='text-align:right'> 8.8408e-28</td></tr><tr><td style='text-align:left'>reduced chi-square</td><td style='text-align:right'> 8.8408e-28</td></tr><tr><td style='text-align:left'>Akaike info crit.</td><td style='text-align:right'>-121.972305</td></tr><tr><td style='text-align:left'>Bayesian info crit.</td><td style='text-align:right'>-124.586011</td></tr><tr><td style='text-align:left'>R-squared</td><td style='text-align:right'> 1.00000000</td></tr></table><table class=\"jp-toc-ignore\"><caption>Parameters</caption><tr><th style='text-align:left'>name</th><th style='text-align:left'>value</th><th style='text-align:left'>standard error</th><th style='text-align:left'>relative error</th><th style='text-align:left'>initial value</th><th style='text-align:left'>min</th><th style='text-align:left'>max</th><th style='text-align:right'>vary</th></tr><tr><td style='text-align:left'>a</td><td style='text-align:left'> 0.36533723</td><td style='text-align:left'> 1.0522e-16</td><td style='text-align:left'>(0.00%)</td><td style='text-align:left'>0.36533723</td><td style='text-align:left'>       -inf</td><td style='text-align:left'>        inf</td><td style='text-align:right'>True</td></tr><tr><td style='text-align:left'>b</td><td style='text-align:left'> 2.57737912</td><td style='text-align:left'> 1.0220e-13</td><td style='text-align:left'>(0.00%)</td><td style='text-align:left'>2.57737912</td><td style='text-align:left'>       -inf</td><td style='text-align:left'>        inf</td><td style='text-align:right'>True</td></tr></table><table class=\"jp-toc-ignore\"><caption>Correlations (unreported values are < 0.100)</caption><tr><th style='text-align:left'>Parameter1</th><th style='text-align:left'>Parameter 2</th><th style='text-align:right'>Correlation</th></tr><tr><td style='text-align:left'>a</td><td style='text-align:left'>b</td><td style='text-align:right'>-0.9194</td></tr></table>"
      ],
      "text/plain": [
       "<lmfit.model.ModelResult at 0x1e697c7f230>"
      ]
     },
     "execution_count": 11,
     "metadata": {},
     "output_type": "execute_result"
    }
   ],
   "source": [
    "fit_result"
   ]
  },
  {
   "cell_type": "markdown",
   "id": "3abb69fc",
   "metadata": {},
   "source": []
  },
  {
   "cell_type": "markdown",
   "id": "04b629a7",
   "metadata": {},
   "source": [
    "Controleren met Cs-137"
   ]
  },
  {
   "cell_type": "code",
   "execution_count": 12,
   "id": "b91d4098",
   "metadata": {},
   "outputs": [
    {
     "name": "stdout",
     "output_type": "stream",
     "text": [
      "242.79411764705884 533.3823529411766\n",
      "De grote piek heeft 6445.0 counts en een pulseheight van 242.79411764705884 mV\n"
     ]
    }
   ],
   "source": [
    "#import peaks from spectrum\n",
    "list_count_A_CS = []\n",
    "L_pulseheight_CS = []\n",
    "# Open the CSV file\n",
    "with open('cal_Ge_Cs_2.csv', mode='r') as spectrum:\n",
    "    csv_reader = csv.reader(spectrum)\n",
    "\n",
    "    # Skip the first line (header)\n",
    "    next(csv_reader)  # This skips the first row\n",
    "\n",
    "    # Iterate through the rows\n",
    "    for row in csv_reader:\n",
    "        pulseheigt, counts_ch_A, counts_ch_B = row\n",
    "\n",
    "        list_count_A_CS.append(float(counts_ch_A))\n",
    "        L_pulseheight_CS.append(float(pulseheigt))\n",
    "        # print(count_A)\n",
    "    \n",
    "max_A_1_CS = max(list_count_A_CS)\n",
    "index_max_A1_CS = list_count_A_CS.index(max_A_1_CS)\n",
    "\n",
    "max_A_2_CS = max(list_count_A_CS[100:])\n",
    "index_max_A2_CS = list_count_A_CS.index(max_A_2_CS, index_max_A1_CS +2)\n",
    "\n",
    "pulseheight_A1_CS = float(L_pulseheight_CS[index_max_A1_CS])\n",
    "pulseheight_A2_CS = float(L_pulseheight_CS[index_max_A2_CS])\n",
    "\n",
    "print(pulseheight_A1_CS, pulseheight_A2_CS)\n",
    "\n",
    "print(f\"De grote piek heeft {max_A_1_CS} counts en een pulseheight van {pulseheight_A1_CS} mV\")\n"
   ]
  },
  {
   "cell_type": "code",
   "execution_count": 13,
   "id": "7eacf3b2",
   "metadata": {},
   "outputs": [
    {
     "name": "stdout",
     "output_type": "stream",
     "text": [
      "244.43062538\n",
      "-1.636507732941169\n"
     ]
    }
   ],
   "source": [
    "a =0.36533723\n",
    "b =\t2.57737912\n",
    "\n",
    "\n",
    "pulse_height_Theory = a * 662 + b\n",
    "print(pulse_height_Theory)\n",
    "#Dit valt in de foutmarge van ongeveer 2!!!!!!!!!\n",
    "print(pulseheight_A1_CS-pulse_height_Theory)\n",
    "\n"
   ]
  },
  {
   "cell_type": "markdown",
   "id": "b91a4da8",
   "metadata": {},
   "source": [
    "bepalen onbekend"
   ]
  },
  {
   "cell_type": "code",
   "execution_count": 16,
   "id": "23ddb452",
   "metadata": {},
   "outputs": [
    {
     "name": "stdout",
     "output_type": "stream",
     "text": [
      "131.91176470588238 223.6764705882353\n",
      "De eerste piek heeft 893.0 counts en een pulseheight van 131.91176470588238 mV\n",
      "De tweede piek heeft 643.0 counts en een pulseheight van 223.6764705882353 mV\n",
      "354.0137028626466\n",
      "605.1917880590361\n",
      "291.2191815635491\n",
      "81.90411056655792\n",
      "1118.0137120016645\n",
      "1756.4246785424875\n"
     ]
    }
   ],
   "source": [
    "#import peaks from spectrum\n",
    "list_count_A = []\n",
    "L_pulseheight = []\n",
    "# Open the CSV file\n",
    "with open('book4_test_1.csv', mode='r') as spectrum:\n",
    "    csv_reader = csv.reader(spectrum)\n",
    "\n",
    "    # Skip the first line (header)\n",
    "    next(csv_reader)  # This skips the first row\n",
    "\n",
    "    # Iterate through the rows\n",
    "    for row in csv_reader:\n",
    "        pulseheigt, counts_ch_A, counts_ch_B = row\n",
    "\n",
    "        list_count_A.append(float(counts_ch_A))\n",
    "        L_pulseheight.append(float(pulseheigt))\n",
    "        # print(count_A)\n",
    "    \n",
    "max_A_1 = max(list_count_A)\n",
    "index_max_A1 = list_count_A.index(max_A_1)\n",
    "\n",
    "max_A_2 = max(list_count_A[index_max_A1+2:])\n",
    "index_max_A2 = list_count_A.index(max_A_2, index_max_A1 )\n",
    "\n",
    "pulseheight_A1 = float(L_pulseheight[index_max_A1])\n",
    "pulseheight_A2 = float(L_pulseheight[index_max_A2])\n",
    "\n",
    "print(pulseheight_A1, pulseheight_A2)\n",
    "\n",
    "print(f\"De eerste piek heeft {max_A_1} counts en een pulseheight van {pulseheight_A1} mV\")\n",
    "print(f\"De tweede piek heeft {max_A_2} counts en een pulseheight van {pulseheight_A2} mV\")\n",
    "\n",
    "\n",
    "a =0.36533723\n",
    "b =\t2.57737912\n",
    "\n",
    "energy1 = (pulseheight_A1-b)/a\n",
    "energy2 = (pulseheight_A2-b)/a\n",
    "energy3 = (108.9705882352941-b)/a\n",
    "energy4 = (32.5-b)/a\n",
    "energy5 = (411.02941176470586-b)/a\n",
    "energy6 = (644.2647058823529-b)/a\n",
    "print(energy1)\n",
    "print(energy2)\n",
    "print(energy3)\n",
    "print(energy4)\n",
    "print(energy5)\n",
    "print(energy6)"
   ]
  },
  {
   "cell_type": "code",
   "execution_count": null,
   "id": "6dcdae71",
   "metadata": {},
   "outputs": [],
   "source": []
  }
 ],
 "metadata": {
  "kernelspec": {
   "display_name": "nsp2",
   "language": "python",
   "name": "python3"
  },
  "language_info": {
   "codemirror_mode": {
    "name": "ipython",
    "version": 3
   },
   "file_extension": ".py",
   "mimetype": "text/x-python",
   "name": "python",
   "nbconvert_exporter": "python",
   "pygments_lexer": "ipython3",
   "version": "3.13.0"
  }
 },
 "nbformat": 4,
 "nbformat_minor": 5
}
