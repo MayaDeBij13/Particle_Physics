{
 "cells": [
  {
   "attachments": {},
   "cell_type": "markdown",
   "id": "c500d6fa",
   "metadata": {},
   "source": [
    "# Dataverwerking"
   ]
  },
  {
   "attachments": {},
   "cell_type": "markdown",
   "id": "d40a7a6b",
   "metadata": {},
   "source": [
    "## Importeren modules"
   ]
  },
  {
   "cell_type": "code",
   "execution_count": 1,
   "id": "bd7cde8e",
   "metadata": {},
   "outputs": [],
   "source": [
    "# For interactive plots\n",
    "%matplotlib widget"
   ]
  },
  {
   "cell_type": "code",
   "execution_count": 3,
   "id": "0afd4732",
   "metadata": {},
   "outputs": [],
   "source": [
    "# Import modules\n",
    "import numpy as np\n",
    "import matplotlib.pyplot as plt\n",
    "from scipy.optimize import curve_fit"
   ]
  },
  {
   "attachments": {},
   "cell_type": "markdown",
   "id": "9f52488c",
   "metadata": {},
   "source": [
    "## Data (uit labjournaal) invoeren"
   ]
  },
  {
   "cell_type": "code",
   "execution_count": 1,
   "id": "5041c05b",
   "metadata": {},
   "outputs": [],
   "source": [
    "# ??? Quantity ??? in ??? unit ???\n",
    "x = [1, 2, 3, 4]\n",
    "\n",
    "# ??? Quantity ??? in ??? unit ???\n",
    "y = [1, 2, 3, 4]"
   ]
  },
  {
   "attachments": {},
   "cell_type": "markdown",
   "id": "c0c5680f",
   "metadata": {},
   "source": [
    "### Pandas DataFrame"
   ]
  },
  {
   "cell_type": "code",
   "execution_count": null,
   "id": "84b06535",
   "metadata": {},
   "outputs": [],
   "source": [
    "# Create the Pandas DataFrame with column names are provided explicitly\n",
    "df = pd.DataFrame({'x': x, \n",
    "                   'y': y})\n",
    " \n",
    "# Print DataFrame\n",
    "df"
   ]
  },
  {
   "attachments": {},
   "cell_type": "markdown",
   "id": "774601a4",
   "metadata": {},
   "source": [
    "### Onzekerheid toevoegen"
   ]
  },
  {
   "cell_type": "code",
   "execution_count": null,
   "id": "f26b7891",
   "metadata": {},
   "outputs": [],
   "source": [
    "# Error of ??? quantity x ??? in ??? unit ???\n",
    "df['err_x'] = 0.28\n",
    "\n",
    "# Error of ??? quantity y ??? in ??? unit ???\n",
    "df['err_y'] = [0.1, 0.2, 0.3, 0.4]\n",
    "\n",
    "# Print DataFrame\n",
    "df"
   ]
  },
  {
   "attachments": {},
   "cell_type": "markdown",
   "id": "87be06ea",
   "metadata": {},
   "source": [
    "### Diagram"
   ]
  },
  {
   "cell_type": "code",
   "execution_count": null,
   "id": "3a72b023",
   "metadata": {},
   "outputs": [],
   "source": [
    "# Create diagram \n",
    "ax = df.plot.scatter('x', 'y', xerr='err_x', yerr='err_y')\n",
    "\n",
    "# Set axis labels\n",
    "ax.set_xlabel('X-Grootheid ($\\\\Xi$-eenheid)')\n",
    "ax.set_ylabel('Y-Grootheid ($\\\\Psi$-eenheid)')\n",
    "\n",
    "# Set axis view limits\n",
    "ax.set_xlim(0, 28)\n",
    "ax.set_ylim(0, 28)"
   ]
  },
  {
   "attachments": {},
   "cell_type": "markdown",
   "id": "13dd89e8",
   "metadata": {},
   "source": [
    "## Fitten"
   ]
  },
  {
   "attachments": {},
   "cell_type": "markdown",
   "id": "c0006179",
   "metadata": {},
   "source": [
    "\\begin{equation}\n",
    "grootheid \\space y = \\text{iets met grootheid x}\n",
    "\\end{equation}"
   ]
  },
  {
   "attachments": {},
   "cell_type": "markdown",
   "id": "73c4abc1",
   "metadata": {},
   "source": [
    "### Fitfunctie in python"
   ]
  },
  {
   "cell_type": "code",
   "execution_count": null,
   "id": "1879b29e",
   "metadata": {},
   "outputs": [],
   "source": [
    "# Define fit function\n",
    "def fit_function (x, p1, p2, p3):\n",
    "    y = iets met x en parameters\n",
    "    return y\n",
    "\n",
    "# Create a model from the fit function\n",
    "MI_model = models.Model(fit_function, name=\"...\")"
   ]
  },
  {
   "attachments": {},
   "cell_type": "markdown",
   "id": "1dab9ac7",
   "metadata": {},
   "source": [
    "### Fitten aan de data"
   ]
  },
  {
   "cell_type": "code",
   "execution_count": null,
   "id": "94779fa2",
   "metadata": {},
   "outputs": [],
   "source": [
    "# Use the model to fit the data\n",
    "fit_result = MI_model.fit(df['y'], x=df['x'], weights=1/df['err_y'], p1=???, p2=???, p3=???)"
   ]
  },
  {
   "attachments": {},
   "cell_type": "markdown",
   "id": "800a1c19",
   "metadata": {},
   "source": [
    "### Plot fitresultaat"
   ]
  },
  {
   "cell_type": "code",
   "execution_count": null,
   "id": "fad064bc",
   "metadata": {},
   "outputs": [],
   "source": [
    "# plot fit including residuals\n",
    "fit_result.plot()\n",
    "\n",
    "# Set axis labels\n",
    "plt.xlabel(\"X-Grootheid ($\\\\Xi$-eenheid)\")\n",
    "plt.ylabel(\"Y-Grootheid ($\\\\Psi$-eenheid)\")\n",
    "\n",
    "# Set axis view limits\n",
    "plt.xlim(0, 28)\n",
    "plt.ylim(0, 28)\n",
    "\n",
    "# Remove title\n",
    "plt.title(None);"
   ]
  },
  {
   "attachments": {},
   "cell_type": "markdown",
   "id": "212b8a5d",
   "metadata": {},
   "source": [
    "### Fitresultaat en statistiek"
   ]
  },
  {
   "cell_type": "code",
   "execution_count": null,
   "id": "69d379e3",
   "metadata": {},
   "outputs": [],
   "source": [
    "fit_result"
   ]
  },
  {
   "cell_type": "markdown",
   "id": "3abb69fc",
   "metadata": {},
   "source": []
  }
 ],
 "metadata": {
  "kernelspec": {
   "display_name": "Python 3.9.13 ('base')",
   "language": "python",
   "name": "python3"
  },
  "language_info": {
   "codemirror_mode": {
    "name": "ipython",
    "version": 3
   },
   "file_extension": ".py",
   "mimetype": "text/x-python",
   "name": "python",
   "nbconvert_exporter": "python",
   "pygments_lexer": "ipython3",
   "version": "3.9.13"
  },
  "vscode": {
   "interpreter": {
    "hash": "e4cce46d6be9934fbd27f9ca0432556941ea5bdf741d4f4d64c6cd7f8dfa8fba"
   }
  }
 },
 "nbformat": 4,
 "nbformat_minor": 5
}
